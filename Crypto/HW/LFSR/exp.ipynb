{
 "cells": [
  {
   "cell_type": "code",
   "execution_count": 175,
   "metadata": {},
   "outputs": [],
   "source": [
    "import sys\n",
    "import numpy as np\n",
    "from functools import reduce\n",
    "from tqdm import trange"
   ]
  },
  {
   "cell_type": "code",
   "execution_count": 327,
   "metadata": {},
   "outputs": [],
   "source": [
    "class LFSR:\n",
    "    def __init__(self, tap, state):\n",
    "        self._tap = tap\n",
    "        self._state = state\n",
    "\n",
    "    def getbit(self):\n",
    "        f = sum([self._state[i] for i in self._tap]) & 1\n",
    "        x = self._state[0]\n",
    "        self._state = self._state[1:] + [f]\n",
    "        return x\n",
    "    \n",
    "def verification(taps, key):\n",
    "    randomness = LFSR(taps, key)\n",
    "    output = []\n",
    "    for _ in range(256 + 64):\n",
    "        for __ in range(70):\n",
    "            randomness.getbit()\n",
    "        output.append(randomness.getbit())\n",
    "    \n",
    "    return output[:256], output[256:]\n",
    "\n",
    "def get_flag(cipher_flag, output):\n",
    "    flag = \"\"\n",
    "    plaintext_hex = ''\n",
    "    for idx, i in enumerate(range(len(cipher_flag))):\n",
    "        flag += str(output[i] ^^ cipher_flag[i])\n",
    "        if (idx+1) % 8 == 0:\n",
    "            plaintext_hex += hex(int(flag, 2))[2:]\n",
    "            flag = \"\"\n",
    "    return bytes.fromhex(plaintext_hex).decode(\"cp437\")"
   ]
  },
  {
   "cell_type": "code",
   "execution_count": 288,
   "metadata": {},
   "outputs": [],
   "source": [
    "f = [0, 0, 0, 0, 0, 1, 0, 1, 1, 0, 1, 1, 1, 0, 0, 1, 0, 0, 1, 0, 1, 0, 1, 0, 1, 1, 0, 1, 1, 1, 0, 0, 0, 1, 1, 0, 0, 0, 0, 0, 0, 0, 1, 0, 0, 1, 0, 0, 0, 1, 0, 0, 1, 0, 0, 1, 1, 0, 1, 0, 1, 1, 0, 1, 0, 1, 1, 0, 1, 1, 0, 1, 0, 0, 0, 0, 0, 1, 0, 0, 0, 1, 0, 1, 0, 0, 1, 0, 1, 0, 1, 1, 0, 0, 1, 0, 0, 1, 0, 0, 0, 0, 1, 0, 0, 1, 0, 0, 1, 1, 1, 0, 0, 0, 1, 0, 0, 1, 1, 1, 1, 0, 0, 0, 0, 0, 0, 0, 0, 1, 1, 1, 0, 1, 0, 0, 0, 1, 1, 0, 0, 0, 0, 1, 0, 1, 0, 0, 0, 1, 0, 1, 0, 1, 1, 1, 1, 1, 0, 0, 0, 1, 0, 0, 1, 1, 1, 0, 0, 1, 0, 0, 0, 0, 0, 1, 0, 0, 0, 0, 0, 0, 0, 0, 1, 1, 0, 1, 1, 0, 1, 0, 1, 1, 1, 1, 0, 1, 1, 1, 1, 0, 1, 1, 0, 0, 0, 0, 0, 0, 0, 1, 1, 0, 0, 0, 1, 1, 1, 0, 1, 0, 1, 0, 1, 0, 1, 0, 0, 0, 0, 0, 0, 0, 1, 0, 1, 1, 0, 1, 0, 1, 1, 0, 0, 0, 0, 0, 1, 1, 0, 1, 0, 0, 1, 1, 1, 1, 1, 0, 0, 0, 0, 1, 0, 1, 0, 1, 0, 1, 1, 1, 0, 0, 0, 1, 0, 1, 0, 0, 0, 1, 0, 0, 1, 0, 1, 1, 1, 0, 0, 0, 0, 0, 0, 0, 0, 0, 0, 1, 0, 0, 0, 0, 1, 0, 1, 0, 0, 0, 0, 0, 1, 0, 0, 1, 1, 1, 0, 0, 1, 1, 0, 1, 1, 0]\n",
    "\n",
    "# Initialization\n",
    "taps = [0, 2, 17, 19, 23, 37, 41, 53]\n",
    "init_state_size = 64\n",
    "cipher_text_xor_flag, cipher_text = f[:len(f)-70], f[len(f)-70:]\n",
    "cipher_text = Matrix(np.array(cipher_text[:init_state_size]).reshape((init_state_size, 1)).tolist())\n",
    "\n",
    "# Create companion Matrix\n",
    "a = np.eye(init_state_size-1, dtype = int)    # 創造對角矩陣\n",
    "b = np.zeros((init_state_size-1, 1), dtype=int) # 創造最左邊全為0的行\n",
    "c = np.array([1 if i in taps else 0 for i in range(init_state_size)])   # 創造最後一列的taps\n",
    "comp_matrix = Matrix(np.vstack([np.hstack([b, a]), c]).tolist()) # 全部組合起來"
   ]
  },
  {
   "cell_type": "code",
   "execution_count": 289,
   "metadata": {},
   "outputs": [],
   "source": [
    "# 做內積的運算\n",
    "_comp_matrix = comp_matrix  # _comp_matrix代表會變動的companion matrix"
   ]
  },
  {
   "cell_type": "code",
   "execution_count": 290,
   "metadata": {},
   "outputs": [],
   "source": [
    "real_comp_matrix = np.empty(init_state_size, dtype=int)"
   ]
  },
  {
   "cell_type": "code",
   "execution_count": 292,
   "metadata": {},
   "outputs": [
    {
     "name": "stderr",
     "output_type": "stream",
     "text": [
      "100%|██████████| 22656/22656 [00:13<00:00, 1670.81it/s]\n"
     ]
    }
   ],
   "source": [
    "count = 256\n",
    "arr_merge = True\n",
    "for i in trange(71*319+6+1):\n",
    "    _comp_matrix = comp_matrix * _comp_matrix % 2   # 因為是在mod 2底下處理，所以不是普通的dot運算，乘法對應到AND，加法對應到XOR\n",
    "    if i == 71 * count + 5:\n",
    "        real_comp_matrix = np.vstack([real_comp_matrix, _comp_matrix[-1]])\n",
    "        count += 1"
   ]
  },
  {
   "cell_type": "code",
   "execution_count": 293,
   "metadata": {},
   "outputs": [
    {
     "name": "stdout",
     "output_type": "stream",
     "text": [
      "64\n"
     ]
    }
   ],
   "source": [
    "print(len(real_comp_matrix[1:]))\n",
    "inv_real_comp_matrix = Matrix(IntegerModRing(2), real_comp_matrix[1:]).inverse()"
   ]
  },
  {
   "cell_type": "code",
   "execution_count": 323,
   "metadata": {},
   "outputs": [
    {
     "name": "stdout",
     "output_type": "stream",
     "text": [
      "[0, 0, 1, 0, 1, 1, 1, 1, 0, 0, 0, 0, 0, 0, 0, 0, 0, 1, 1, 0, 1, 0, 0, 1, 1, 0, 1, 1, 1, 0, 0, 0, 0, 1, 0, 1, 0, 1, 1, 0, 1, 0, 1, 0, 0, 1, 1, 0, 1, 0, 1, 1, 0, 0, 0, 0, 0, 0, 1, 0, 1, 1, 1, 1]\n"
     ]
    }
   ],
   "source": [
    "init_state = inv_real_comp_matrix * cipher_text % 2\n",
    "init_state = list(init_state.numpy().reshape(1, init_state_size)[0])\n",
    "print(init_state)"
   ]
  },
  {
   "cell_type": "code",
   "execution_count": 324,
   "metadata": {},
   "outputs": [],
   "source": [
    "output, check = verification(taps, [0, 0, 1, 0, 1, 1, 1, 1, 0, 0, 0, 0, 0, 0, 0, 0, 0, 1, 1, 0, 1, 0, 0, 1, 1, 0, 1, 1, 1, 0, 0, 0, 0, 1, 0, 1, 0, 1, 1, 0, 1, 0, 1, 0, 0, 1, 1, 0, 1, 0, 1, 1, 0, 0, 0, 0, 0, 0, 1, 0, 1, 1, 1, 1])"
   ]
  },
  {
   "cell_type": "code",
   "execution_count": 325,
   "metadata": {},
   "outputs": [
    {
     "name": "stdout",
     "output_type": "stream",
     "text": [
      "[1, 1, 1, 0, 0, 0, 0, 1, 0, 1, 0, 1, 0, 1, 1, 1, 0, 0, 0, 1, 0, 1, 0, 0, 0, 1, 0, 0, 1, 0, 1, 1, 1, 0, 0, 0, 0, 0, 0, 0, 0, 0, 0, 1, 0, 0, 0, 0, 1, 0, 1, 0, 0, 0, 0, 0, 1, 0, 0, 1, 1, 1, 0, 0]\n"
     ]
    }
   ],
   "source": [
    "print(list(cipher_text.numpy().reshape(1, 64)[0]))\n",
    "assert list(cipher_text.numpy().reshape(1, 64)[0]) == check"
   ]
  },
  {
   "cell_type": "code",
   "execution_count": 329,
   "metadata": {},
   "outputs": [
    {
     "name": "stdout",
     "output_type": "stream",
     "text": [
      "FLAG{Lf5r_15_50_eZZzZzZZZzzZzzz}\n"
     ]
    }
   ],
   "source": [
    "print(get_flag(cipher_text_xor_flag, output))"
   ]
  },
  {
   "cell_type": "code",
   "execution_count": null,
   "metadata": {},
   "outputs": [],
   "source": []
  }
 ],
 "metadata": {
  "kernelspec": {
   "display_name": "SageMath 9.0",
   "language": "sage",
   "name": "sagemath"
  },
  "language_info": {
   "codemirror_mode": {
    "name": "ipython",
    "version": 3
   },
   "file_extension": ".py",
   "mimetype": "text/x-python",
   "name": "python",
   "nbconvert_exporter": "python",
   "pygments_lexer": "ipython3",
   "version": "3.8.10"
  }
 },
 "nbformat": 4,
 "nbformat_minor": 2
}
