{
 "cells": [
  {
   "cell_type": "code",
   "execution_count": 2,
   "id": "13a9ab13",
   "metadata": {},
   "outputs": [],
   "source": [
    "from Crypto.Util.number import *\n",
    "from hashlib import sha256, md5\n",
    "from ecdsa import SECP256k1\n",
    "from secret import FLAG"
   ]
  },
  {
   "cell_type": "code",
   "execution_count": 3,
   "id": "23557961",
   "metadata": {},
   "outputs": [],
   "source": [
    "E = SECP256k1\n",
    "G, n = E.generator, E.order\n",
    "P = (70427896289635684269185763735464004880272487387417064603929487585697794861713, 83106938517126976838986116917338443942453391221542116900720022828358221631968)\n",
    "sig1 = (26150478759659181410183574739595997895638116875172347795980556499925372918857, 50639168022751577246163934860133616960953696675993100806612269138066992704236)\n",
    "sig2 = (8256687378196792904669428303872036025324883507048772044875872623403155644190, 90323515158120328162524865800363952831516312527470472160064097576156608261906)\n",
    "\n",
    "# For testing\n",
    "# P = (26736306451263639649544473830748549092413652209755071996266962693227651355161, 89417814514934957396949458576406582360994554957431281736049167043406463110369)\n",
    "# sig1 = (81662027077193027168582603016840968492649556613182112980520721434564206845054, 61216391997369734454119272569663296196634169633367973707336142972223811684648)\n",
    "# sig2 = (11929455757350160260303807723835273975612216551714012709509461646171093528651, 4310931431945887220100114064248549520233253993264317095029393738932755323599)\n",
    "\n",
    "h1 = bytes_to_long(sha256(b\"https://www.youtube.com/watch?v=IBnrn2pnPG8\").digest())\n",
    "h2 = bytes_to_long(sha256(b\"https://www.youtube.com/watch?v=1H2cyhWYXrE\").digest())"
   ]
  },
  {
   "cell_type": "code",
   "execution_count": 4,
   "id": "50eb7181",
   "metadata": {},
   "outputs": [],
   "source": [
    "r1, s1 = sig1\n",
    "r2, s2 = sig2\n",
    "s1_inv = inverse(s1, n)\n",
    "s2_inv = inverse(s2, n)\n",
    "r1_inv = inverse(r1, n)\n",
    "r2_inv = inverse(r2, n)"
   ]
  },
  {
   "cell_type": "code",
   "execution_count": 8,
   "id": "2a809d57",
   "metadata": {},
   "outputs": [],
   "source": [
    "t = -s1_inv * s2 * r1 * r2_inv\n",
    "u = s1_inv * r1 * h2 * r2_inv - s1_inv * h1\n",
    "b_matrix_K = 2**128\n",
    "dommy = 2**128\n",
    "\n",
    "new_t = (1 + dommy * t) * inverse((dommy + t), n)\n",
    "new_u = u * inverse((dommy + t), n)"
   ]
  },
  {
   "cell_type": "code",
   "execution_count": 9,
   "id": "10877bb3",
   "metadata": {},
   "outputs": [],
   "source": [
    "b_matrix = [\n",
    "    [int(n.digits()), 0, 0],\n",
    "    [new_t, 1, 0],\n",
    "    [new_u, 0, b_matrix_K]\n",
    "]"
   ]
  },
  {
   "cell_type": "code",
   "execution_count": 10,
   "id": "0b3c940f",
   "metadata": {},
   "outputs": [
    {
     "name": "stdout",
     "output_type": "stream",
     "text": [
      "b'\\xad\\xc4u\\xcf\\x11\\x1f\\xd7R$FLAG{LLLisreaLLyusefuL}'\n",
      "b'\\xad\\xc4u\\xcf\\x11\\x1f\\xd7R$FLAG{LLLisreaLLyusefuL}'\n",
      "b'\\xad\\xc4u\\xcf\\x11\\x1f\\xd7R$FLAG{LLLisreaLLyusefuL}'\n",
      "b'\\xad\\xc4u\\xcf\\x11\\x1f\\xd7R$FLAG{LLLisreaLLyusefuL}'\n",
      "b'\\xad\\xc4u\\xcf\\x11\\x1f\\xd7R$FLAG{LLLisreaLLyusefuL}'\n",
      "b'\\xad\\xc4u\\xcf\\x11\\x1f\\xd7R$FLAG{LLLisreaLLyusefuL}'\n",
      "b'\\xad\\xc4u\\xcf\\x11\\x1f\\xd7R$FLAG{LLLisreaLLyusefuL}'\n",
      "b'\\xad\\xc4u\\xcf\\x11\\x1f\\xd7R$FLAG{LLLisreaLLyusefuL}'\n",
      "b'\\xad\\xc4u\\xcf\\x11\\x1f\\xd7R$FLAG{LLLisreaLLyusefuL}'\n",
      "b'\\xad\\xc4u\\xcf\\x11\\x1f\\xd7R$FLAG{LLLisreaLLyusefuL}'\n",
      "b'\\xad\\xc4u\\xcf\\x11\\x1f\\xd7R$FLAG{LLLisreaLLyusefuL}'\n",
      "b'\\xad\\xc4u\\xcf\\x11\\x1f\\xd7R$FLAG{LLLisreaLLyusefuL}'\n",
      "b'\\xad\\xc4u\\xcf\\x11\\x1f\\xd7R$FLAG{LLLisreaLLyusefuL}'\n",
      "b'\\xad\\xc4u\\xcf\\x11\\x1f\\xd7R$FLAG{LLLisreaLLyusefuL}'\n",
      "b'\\xad\\xc4u\\xcf\\x11\\x1f\\xd7R$FLAG{LLLisreaLLyusefuL}'\n",
      "b'\\xad\\xc4u\\xcf\\x11\\x1f\\xd7R$FLAG{LLLisreaLLyusefuL}'\n",
      "b'\\xad\\xc4u\\xcf\\x11\\x1f\\xd7R$FLAG{LLLisreaLLyusefuL}'\n",
      "b'\\xad\\xc4u\\xcf\\x11\\x1f\\xd7R$FLAG{LLLisreaLLyusefuL}'\n",
      "b'\\xad\\xc4u\\xcf\\x11\\x1f\\xd7R$FLAG{LLLisreaLLyusefuL}'\n"
     ]
    }
   ],
   "source": [
    "LLL_reduced_basis = matrix(b_matrix).LLL()\n",
    "basis0 = LLL_reduced_basis[0]\n",
    "basis1 = LLL_reduced_basis[1]\n",
    "basis2 = LLL_reduced_basis[2]\n",
    "\n",
    "def verify(d):\n",
    "    return b\"FLAG\" in long_to_bytes(d)\n",
    "\n",
    "for i in range(-10,10):\n",
    "    for j in range(-10,10):\n",
    "        for k in range(-10, 10):\n",
    "            if (j+k)==0:\n",
    "                continue\n",
    "            vec = i*basis0 + j*basis1 + k*basis2\n",
    "            factor = j+k\n",
    "            factor_inv = pow(factor,-1,n)\n",
    "            m1 = (-(factor_inv*vec[0]))%n\n",
    "            m2 = (factor_inv*vec[1])%n\n",
    "            k1 = m1*(2**128)+m2\n",
    "            d = ((s1*k1-h1)*r1_inv)%n\n",
    "            if verify(d):\n",
    "                print(long_to_bytes(d))"
   ]
  },
  {
   "cell_type": "code",
   "execution_count": 6,
   "id": "8ae87c31",
   "metadata": {},
   "outputs": [],
   "source": [
    "shortest_vector = matrix(b_matrix).LLL()"
   ]
  },
  {
   "cell_type": "code",
   "execution_count": 7,
   "id": "8754e81c",
   "metadata": {},
   "outputs": [
    {
     "data": {
      "text/plain": [
       "[-221227854189652752387006500971265535677  154796202886613489929017650654193194295                                        0]\n",
       "[ -78316557126501995251733139438552596659    1809028261633383948620558940699892506  340282366920938463463374607431768211456]\n",
       "[-190260135239507154352414451870270937822 -390278805794181212650296278313898033211                                        0]"
      ]
     },
     "execution_count": 7,
     "metadata": {},
     "output_type": "execute_result"
    }
   ],
   "source": [
    "v = shortest_vector[2];shortest_vector"
   ]
  },
  {
   "cell_type": "code",
   "execution_count": 108,
   "id": "c65b2655",
   "metadata": {},
   "outputs": [],
   "source": [
    "magic1_guess = long_to_bytes(-v[0]);\n",
    "magic2_guess = long_to_bytes(-v[1]);"
   ]
  },
  {
   "cell_type": "code",
   "execution_count": 109,
   "id": "ca1d0576",
   "metadata": {},
   "outputs": [
    {
     "name": "stdout",
     "output_type": "stream",
     "text": [
      "b'\\x8f\"\\xc4\\xe83=j+\\x9ao\\xbb\\xe0\\x00\\xbe\\xda\\xde'\n",
      "b'\\x01%\\x9c\\xf6\\xc0p\\x1e\\xf1)vrUS\\x8b\\xf3@;'\n"
     ]
    }
   ],
   "source": [
    "print(magic1_guess)\n",
    "print(magic2_guess)"
   ]
  },
  {
   "cell_type": "code",
   "execution_count": 110,
   "id": "4230bfb4",
   "metadata": {},
   "outputs": [],
   "source": [
    "d = bytes_to_long( b'\\x11' * (32 - len(FLAG)) + FLAG )\n",
    "magic1 = md5(d.to_bytes(32, \"big\")).digest()\n",
    "magic2 = md5(d.to_bytes(32, \"big\")[::-1]).digest()"
   ]
  },
  {
   "cell_type": "code",
   "execution_count": 113,
   "id": "b87848d0",
   "metadata": {},
   "outputs": [
    {
     "name": "stdout",
     "output_type": "stream",
     "text": [
      "168631037333865985190542051965107788062\n",
      "b\"~\\xdd(\\x0c'\\x1f\\xbe\\x93\\xdebb7\\xc8\\xe5Y\\x1e\"\n",
      "137865177377888592589766359891638486327\n",
      "b'g\\xb7\\xde\\t\\xff\\x15\\xb3$\\x9a\\x11\\xcav*L\\x057'\n",
      "b'\\x11\\x11\\x11\\x11\\x11\\x11\\x11\\x11\\x11\\x11\\x11\\x11\\x11\\x11\\x11\\x11FLAG{test_12345}'\n"
     ]
    }
   ],
   "source": [
    "print(bytes_to_long(magic1))\n",
    "print(magic1)\n",
    "print(bytes_to_long(magic2))\n",
    "print(magic2)\n",
    "print(long_to_bytes(d))"
   ]
  },
  {
   "cell_type": "code",
   "execution_count": null,
   "id": "763da227",
   "metadata": {},
   "outputs": [],
   "source": []
  }
 ],
 "metadata": {
  "kernelspec": {
   "display_name": "SageMath 10.0",
   "language": "sage",
   "name": "sagemath"
  },
  "language_info": {
   "codemirror_mode": {
    "name": "ipython",
    "version": 3
   },
   "file_extension": ".py",
   "mimetype": "text/x-python",
   "name": "python",
   "nbconvert_exporter": "python",
   "pygments_lexer": "ipython3",
   "version": "3.11.6"
  }
 },
 "nbformat": 4,
 "nbformat_minor": 5
}
