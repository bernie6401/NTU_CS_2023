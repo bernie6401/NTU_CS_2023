{
 "cells": [
  {
   "cell_type": "code",
   "execution_count": 9,
   "id": "13a9ab13",
   "metadata": {},
   "outputs": [],
   "source": [
    "from Crypto.Util.number import *\n",
    "from hashlib import sha256, md5\n",
    "from ecdsa import SECP256k1\n",
    "from secret import FLAG"
   ]
  },
  {
   "cell_type": "code",
   "execution_count": 33,
   "id": "23557961",
   "metadata": {},
   "outputs": [],
   "source": [
    "E = SECP256k1\n",
    "G, n = E.generator, E.order\n",
    "P = (26736306451263639649544473830748549092413652209755071996266962693227651355161, 89417814514934957396949458576406582360994554957431281736049167043406463110369)\n",
    "sig1 = (81662027077193027168582603016840968492649556613182112980520721434564206845054, 61216391997369734454119272569663296196634169633367973707336142972223811684648)\n",
    "sig2 = (11929455757350160260303807723835273975612216551714012709509461646171093528651, 4310931431945887220100114064248549520233253993264317095029393738932755323599)\n",
    "h1 = bytes_to_long(sha256(b\"https://www.youtube.com/watch?v=IBnrn2pnPG8\").digest())\n",
    "h2 = bytes_to_long(sha256(b\"https://www.youtube.com/watch?v=1H2cyhWYXrE\").digest())"
   ]
  },
  {
   "cell_type": "code",
   "execution_count": 34,
   "id": "50eb7181",
   "metadata": {},
   "outputs": [],
   "source": [
    "r1, s1 = sig1\n",
    "r2, s2 = sig2\n",
    "s1_inv = inverse(s1, n)\n",
    "s2_inv = inverse(s2, n)\n",
    "r2_inv = inverse(r2, n)"
   ]
  },
  {
   "cell_type": "code",
   "execution_count": 35,
   "id": "2a809d57",
   "metadata": {},
   "outputs": [],
   "source": [
    "b_matrix_t = -s1_inv * s2 * r1 * r2_inv\n",
    "b_matrix_u = s1_inv * r1 * h2 * r2_inv - s1_inv * h1\n",
    "b_matrix_K = 2**128\n",
    "dommy = 1/(2**127)"
   ]
  },
  {
   "cell_type": "code",
   "execution_count": 36,
   "id": "10877bb3",
   "metadata": {},
   "outputs": [],
   "source": [
    "b_matrix = [\n",
    "    [int(n.digits()), 0, 0],\n",
    "    [b_matrix_t, dommy, 0],\n",
    "    [b_matrix_u, 0, b_matrix_K]\n",
    "]"
   ]
  },
  {
   "cell_type": "code",
   "execution_count": 37,
   "id": "d9c036cc",
   "metadata": {},
   "outputs": [
    {
     "data": {
      "text/plain": [
       "256"
      ]
     },
     "execution_count": 37,
     "metadata": {},
     "output_type": "execute_result"
    }
   ],
   "source": [
    "int(n.bit_length())"
   ]
  },
  {
   "cell_type": "code",
   "execution_count": 38,
   "id": "8ae87c31",
   "metadata": {},
   "outputs": [],
   "source": [
    "shortest_vector = matrix(b_matrix).LLL()"
   ]
  },
  {
   "cell_type": "code",
   "execution_count": 39,
   "id": "8754e81c",
   "metadata": {},
   "outputs": [
    {
     "data": {
      "text/plain": [
       "[                                                                              -9245915461379356411 4032571148742329571050881321917591324800549297678755545759/170141183460469231731687303715884105728                                                                                                  0]\n",
       "[                                                                              27161144052714135847    84670406484721069973561520621912052967742054074068545203/21267647932558653966460912964485513216                                                                                                  0]\n",
       "[                                                                               3724880440639130012 -892549340168036891706934307150543742270189812612323728245/170141183460469231731687303715884105728                                                            170141183460469231731687303715884105728]"
      ]
     },
     "execution_count": 39,
     "metadata": {},
     "output_type": "execute_result"
    }
   ],
   "source": [
    "v = shortest_vector[2];shortest_vector"
   ]
  },
  {
   "cell_type": "code",
   "execution_count": 25,
   "id": "c65b2655",
   "metadata": {},
   "outputs": [
    {
     "ename": "ValueError",
     "evalue": "Values must be non-negative",
     "output_type": "error",
     "traceback": [
      "\u001b[0;31m---------------------------------------------------------------------------\u001b[0m",
      "\u001b[0;31mValueError\u001b[0m                                Traceback (most recent call last)",
      "Cell \u001b[0;32mIn[25], line 1\u001b[0m\n\u001b[0;32m----> 1\u001b[0m tmp1 \u001b[38;5;241m=\u001b[39m \u001b[43mlong_to_bytes\u001b[49m\u001b[43m(\u001b[49m\u001b[38;5;241;43m-\u001b[39;49m\u001b[43mv\u001b[49m\u001b[43m[\u001b[49m\u001b[43mInteger\u001b[49m\u001b[43m(\u001b[49m\u001b[38;5;241;43m0\u001b[39;49m\u001b[43m)\u001b[49m\u001b[43m]\u001b[49m\u001b[43m)\u001b[49m;\n\u001b[1;32m      2\u001b[0m tmp2 \u001b[38;5;241m=\u001b[39m long_to_bytes(\u001b[38;5;241m-\u001b[39mv[Integer(\u001b[38;5;241m1\u001b[39m)]);\n",
      "File \u001b[0;32m~/anaconda3/envs/sageenv/lib/python3.11/site-packages/Crypto/Util/number.py:433\u001b[0m, in \u001b[0;36mlong_to_bytes\u001b[0;34m(n, blocksize)\u001b[0m\n\u001b[1;32m    408\u001b[0m \u001b[38;5;250m\u001b[39m\u001b[38;5;124;03m\"\"\"Convert a positive integer to a byte string using big endian encoding.\u001b[39;00m\n\u001b[1;32m    409\u001b[0m \n\u001b[1;32m    410\u001b[0m \u001b[38;5;124;03mIf :data:`blocksize` is absent or zero, the byte string will\u001b[39;00m\n\u001b[0;32m   (...)\u001b[0m\n\u001b[1;32m    429\u001b[0m \u001b[38;5;124;03m    an ``OverflowError`` exception is raised if :data:`n` does not fit.\u001b[39;00m\n\u001b[1;32m    430\u001b[0m \u001b[38;5;124;03m\"\"\"\u001b[39;00m\n\u001b[1;32m    432\u001b[0m \u001b[38;5;28;01mif\u001b[39;00m n \u001b[38;5;241m<\u001b[39m \u001b[38;5;241m0\u001b[39m \u001b[38;5;129;01mor\u001b[39;00m blocksize \u001b[38;5;241m<\u001b[39m \u001b[38;5;241m0\u001b[39m:\n\u001b[0;32m--> 433\u001b[0m     \u001b[38;5;28;01mraise\u001b[39;00m \u001b[38;5;167;01mValueError\u001b[39;00m(\u001b[38;5;124m\"\u001b[39m\u001b[38;5;124mValues must be non-negative\u001b[39m\u001b[38;5;124m\"\u001b[39m)\n\u001b[1;32m    435\u001b[0m result \u001b[38;5;241m=\u001b[39m []\n\u001b[1;32m    436\u001b[0m pack \u001b[38;5;241m=\u001b[39m struct\u001b[38;5;241m.\u001b[39mpack\n",
      "\u001b[0;31mValueError\u001b[0m: Values must be non-negative"
     ]
    }
   ],
   "source": [
    "tmp1 = long_to_bytes(-v[0]);\n",
    "tmp2 = long_to_bytes(-v[1]);"
   ]
  },
  {
   "cell_type": "code",
   "execution_count": 100,
   "id": "ca1d0576",
   "metadata": {},
   "outputs": [
    {
     "data": {
      "text/plain": [
       "b'\\x13\\xb5a\\x0c\\xd5\\xea\\x16\\xf4\\xdf\\xb7\\xfb\\xbc\\xd4\\x1b@\\xdb'"
      ]
     },
     "execution_count": 100,
     "metadata": {},
     "output_type": "execute_result"
    }
   ],
   "source": [
    "tmp1#[len(tmp1)//2:]"
   ]
  },
  {
   "cell_type": "code",
   "execution_count": 101,
   "id": "a869818c",
   "metadata": {},
   "outputs": [
    {
     "data": {
      "text/plain": [
       "b'\\x01\\x05\\xea\\x0b\\xf3o\\x94*\\x1e\\xa1?\\xadE\\xba\\xf0\\x9d\\x12'"
      ]
     },
     "execution_count": 101,
     "metadata": {},
     "output_type": "execute_result"
    }
   ],
   "source": [
    "tmp2#[:len(tmp2)//2]"
   ]
  },
  {
   "cell_type": "code",
   "execution_count": 32,
   "id": "4230bfb4",
   "metadata": {},
   "outputs": [
    {
     "ename": "NameError",
     "evalue": "name 'd' is not defined",
     "output_type": "error",
     "traceback": [
      "\u001b[0;31m---------------------------------------------------------------------------\u001b[0m",
      "\u001b[0;31mNameError\u001b[0m                                 Traceback (most recent call last)",
      "Cell \u001b[0;32mIn[32], line 1\u001b[0m\n\u001b[0;32m----> 1\u001b[0m magic1 \u001b[38;5;241m=\u001b[39m md5(\u001b[43md\u001b[49m\u001b[38;5;241m.\u001b[39mto_bytes(Integer(\u001b[38;5;241m32\u001b[39m), \u001b[38;5;124m\"\u001b[39m\u001b[38;5;124mbig\u001b[39m\u001b[38;5;124m\"\u001b[39m))\u001b[38;5;241m.\u001b[39mdigest()\n\u001b[1;32m      2\u001b[0m magic2 \u001b[38;5;241m=\u001b[39m md5(d\u001b[38;5;241m.\u001b[39mto_bytes(Integer(\u001b[38;5;241m32\u001b[39m), \u001b[38;5;124m\"\u001b[39m\u001b[38;5;124mbig\u001b[39m\u001b[38;5;124m\"\u001b[39m)[::\u001b[38;5;241m-\u001b[39mInteger(\u001b[38;5;241m1\u001b[39m)])\u001b[38;5;241m.\u001b[39mdigest()\n",
      "\u001b[0;31mNameError\u001b[0m: name 'd' is not defined"
     ]
    }
   ],
   "source": [
    "magic1 = md5(d.to_bytes(32, \"big\")).digest()\n",
    "magic2 = md5(d.to_bytes(32, \"big\")[::-1]).digest()"
   ]
  },
  {
   "cell_type": "code",
   "execution_count": null,
   "id": "74ecc88a",
   "metadata": {},
   "outputs": [],
   "source": []
  }
 ],
 "metadata": {
  "kernelspec": {
   "display_name": "SageMath 10.0",
   "language": "sage",
   "name": "sagemath"
  },
  "language_info": {
   "codemirror_mode": {
    "name": "ipython",
    "version": 3
   },
   "file_extension": ".py",
   "mimetype": "text/x-python",
   "name": "python",
   "nbconvert_exporter": "python",
   "pygments_lexer": "ipython3",
   "version": "3.11.6"
  }
 },
 "nbformat": 4,
 "nbformat_minor": 5
}
